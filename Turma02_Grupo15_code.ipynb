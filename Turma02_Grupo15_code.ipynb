{
  "cells": [
    {
      "cell_type": "markdown",
      "metadata": {
        "id": "3PXzxQMmNojL"
      },
      "source": [
        "# Trabalho de Algebra Linear\n",
        "## Cadeias de Markov aplicado a finanças\n",
        "\n",
        "### Alunos\n",
        "- Eric Rodrigues das Chagas - 12623971\n",
        "- Pedro Perez - 7777970\n",
        "- Gustavo Blois - 13688162\n",
        "\n",
        "\n",
        "\n",
        "\n"
      ]
    },
    {
      "cell_type": "markdown",
      "metadata": {
        "id": "HqfRCso8N94F"
      },
      "source": [
        "## O que são cadeias de Markov ?\n",
        "\n",
        "Em matemática, uma cadeia de Markov é um caso particular de processo estocástico com estados discretos (o parâmetro, em geral o tempo, pode ser discreto ou contínuo) com a propriedade de que a distribuição de probabilidade do próximo estado depende apenas do estado atual e não na sequência de eventos que precederam, uma propriedade chamada de Markoviana, chamada assim em homenagem ao matemático Andrei Andreyevich Markov. A definição dessa propriedade, também chamada de memória markoviana, é que os estados anteriores são irrelevantes para a predição dos estados seguintes, desde que o estado atual seja conhecido."
      ]
    },
    {
      "cell_type": "markdown",
      "metadata": {
        "id": "YV-MnK5KQJ59"
      },
      "source": [
        "## Definição formal\n",
        "Uma cadeia de Markov é uma sequência $X_1, X_2, X_3, ...$ de variáveis aleatórias. O escopo destas variáveis, isto é, o conjunto de valores que elas podem assumir, é chamado de espaço de estados, onde $X_n$ denota o estado do processo no tempo n. Se a distribuição de probabilidade condicional de $X_{n+1}$ nos estados passados é uma função apenas de $X_n$, então:<br> $Pr(X_{n+1} = x | X_0, X_1, X_2, ..., X_n) = Pr(X_{n+1} = x | X_n),$ <br> onde x é algum estado do processo. A identidade acima define a propriedade de Markov."
      ]
    },
    {
      "cell_type": "code",
      "execution_count": 190,
      "metadata": {
        "id": "C4J4YnQRRMJ6"
      },
      "outputs": [],
      "source": [
        "# Bibliotecas utilizadas. Mais detalhes sobre suas funcionalidades serão fornecidos\n",
        "# conforme forem utilizados\n",
        "%matplotlib inline\n",
        "import matplotlib\n",
        "import matplotlib.pyplot as plt\n",
        "import io, base64, os, json, re\n",
        "import pandas as pd\n",
        "import numpy as np\n",
        "import datetime\n",
        "from random import randint"
      ]
    },
    {
      "cell_type": "code",
      "execution_count": 191,
      "metadata": {
        "colab": {
          "base_uri": "https://localhost:8080/"
        },
        "id": "YaIr5ArnReu7",
        "outputId": "470ab657-2f32-4262-9e5c-9859946d6a4d"
      },
      "outputs": [
        {
          "name": "stdout",
          "output_type": "stream",
          "text": [
            "Defaulting to user installation because normal site-packages is not writeable\n",
            "Requirement already satisfied: yfinance in /home/ericrc_01/.local/lib/python3.10/site-packages (0.2.32)\n",
            "Requirement already satisfied: pytz>=2022.5 in /home/ericrc_01/.local/lib/python3.10/site-packages (from yfinance) (2023.3.post1)\n",
            "Requirement already satisfied: numpy>=1.16.5 in /home/ericrc_01/.local/lib/python3.10/site-packages (from yfinance) (1.25.2)\n",
            "Requirement already satisfied: requests>=2.31 in /home/ericrc_01/.local/lib/python3.10/site-packages (from yfinance) (2.31.0)\n",
            "Requirement already satisfied: multitasking>=0.0.7 in /home/ericrc_01/.local/lib/python3.10/site-packages (from yfinance) (0.0.11)\n",
            "Requirement already satisfied: frozendict>=2.3.4 in /home/ericrc_01/.local/lib/python3.10/site-packages (from yfinance) (2.3.10)\n",
            "Requirement already satisfied: peewee>=3.16.2 in /home/ericrc_01/.local/lib/python3.10/site-packages (from yfinance) (3.17.0)\n",
            "Requirement already satisfied: lxml>=4.9.1 in /home/ericrc_01/.local/lib/python3.10/site-packages (from yfinance) (4.9.3)\n",
            "Requirement already satisfied: appdirs>=1.4.4 in /home/ericrc_01/.local/lib/python3.10/site-packages (from yfinance) (1.4.4)\n",
            "Requirement already satisfied: pandas>=1.3.0 in /home/ericrc_01/.local/lib/python3.10/site-packages (from yfinance) (2.1.0)\n",
            "Requirement already satisfied: html5lib>=1.1 in /home/ericrc_01/.local/lib/python3.10/site-packages (from yfinance) (1.1)\n",
            "Requirement already satisfied: beautifulsoup4>=4.11.1 in /home/ericrc_01/.local/lib/python3.10/site-packages (from yfinance) (4.12.2)\n",
            "Requirement already satisfied: soupsieve>1.2 in /home/ericrc_01/.local/lib/python3.10/site-packages (from beautifulsoup4>=4.11.1->yfinance) (2.5)\n",
            "Requirement already satisfied: six>=1.9 in /usr/lib/python3/dist-packages (from html5lib>=1.1->yfinance) (1.16.0)\n",
            "Requirement already satisfied: webencodings in /home/ericrc_01/.local/lib/python3.10/site-packages (from html5lib>=1.1->yfinance) (0.5.1)\n",
            "Requirement already satisfied: python-dateutil>=2.8.2 in /home/ericrc_01/.local/lib/python3.10/site-packages (from pandas>=1.3.0->yfinance) (2.8.2)\n",
            "Requirement already satisfied: tzdata>=2022.1 in /home/ericrc_01/.local/lib/python3.10/site-packages (from pandas>=1.3.0->yfinance) (2023.3)\n",
            "Requirement already satisfied: certifi>=2017.4.17 in /usr/lib/python3/dist-packages (from requests>=2.31->yfinance) (2020.6.20)\n",
            "Requirement already satisfied: urllib3<3,>=1.21.1 in /usr/lib/python3/dist-packages (from requests>=2.31->yfinance) (1.26.5)\n",
            "Requirement already satisfied: charset-normalizer<4,>=2 in /home/ericrc_01/.local/lib/python3.10/site-packages (from requests>=2.31->yfinance) (3.3.2)\n",
            "Requirement already satisfied: idna<4,>=2.5 in /usr/lib/python3/dist-packages (from requests>=2.31->yfinance) (3.3)\n"
          ]
        }
      ],
      "source": [
        "#Dados obtidos do yahoo! finanças\n",
        "!pip install yfinance\n",
        "import yfinance as yf"
      ]
    },
    {
      "cell_type": "code",
      "execution_count": 192,
      "metadata": {
        "colab": {
          "base_uri": "https://localhost:8080/"
        },
        "id": "XM_y308gSsUp",
        "outputId": "019504ff-0e4c-4d5b-ff1b-046442a5a1b0"
      },
      "outputs": [
        {
          "name": "stdout",
          "output_type": "stream",
          "text": [
            "[*********************100%%**********************]  1 of 1 completed\n",
            "          Date           Open          High            Low         Close  \\\n",
            "0   2019-12-02  108246.000000  109279.00000  108245.000000  109061.00000   \n",
            "1   2019-12-03  108931.000000  109198.00000  108190.000000  108956.00000   \n",
            "2   2019-12-04  108962.000000  110301.00000  108962.000000  110301.00000   \n",
            "3   2019-12-05  110297.000000  111073.00000  110008.000000  110622.00000   \n",
            "4   2019-12-06  110623.000000  111430.00000  110623.000000  111126.00000   \n",
            "..         ...            ...           ...            ...           ...   \n",
            "989 2023-11-27  125517.000000  125826.00000  124840.000000  125683.00000   \n",
            "990 2023-11-28  125726.000000  126916.00000  125388.000000  126538.00000   \n",
            "991 2023-11-29  126541.000000  127388.00000  126018.000000  126101.00000   \n",
            "992 2023-11-30  126168.000000  127399.00000  126168.000000  127331.00000   \n",
            "993 2023-12-01  127331.117188  128184.90625  126655.671875  128184.90625   \n",
            "\n",
            "        Adj Close    Volume  \n",
            "0    109061.00000   4708000  \n",
            "1    108956.00000   5223100  \n",
            "2    110301.00000   4889500  \n",
            "3    110622.00000   4399100  \n",
            "4    111126.00000   4968100  \n",
            "..            ...       ...  \n",
            "989  125683.00000  11013800  \n",
            "990  126538.00000  12394200  \n",
            "991  126101.00000  12417500  \n",
            "992  127331.00000  19238400  \n",
            "993  128184.90625         0  \n",
            "\n",
            "[994 rows x 7 columns]\n"
          ]
        }
      ],
      "source": [
        "# Nesta célula extraímos dados da Ibovespa entre 1º de janeiro de 2021 e 1º de\n",
        "#novembro de 2023\n",
        "bvsp = yf.download(\"^BVSP\",period = \"4y\")\n",
        "bvsp_df = bvsp.reset_index()\n",
        "print(bvsp_df)"
      ]
    },
    {
      "cell_type": "code",
      "execution_count": 193,
      "metadata": {
        "colab": {
          "base_uri": "https://localhost:8080/"
        },
        "id": "bRrR3SUaKpjs",
        "outputId": "c7328a2d-d1c7-43b7-ca23-556cf5c72daf"
      },
      "outputs": [
        {
          "name": "stdout",
          "output_type": "stream",
          "text": [
            "0\n",
            "2022-12-19 00:00:00\n",
            "2000\n",
            "2022-08-18 00:00:00\n",
            "4000\n",
            "2022-05-17 00:00:00\n",
            "6000\n",
            "2022-12-09 00:00:00\n",
            "8000\n",
            "2020-06-19 00:00:00\n",
            "10000\n",
            "2022-03-17 00:00:00\n",
            "12000\n",
            "2022-08-30 00:00:00\n",
            "14000\n",
            "2022-11-07 00:00:00\n",
            "16000\n",
            "2021-04-07 00:00:00\n",
            "18000\n",
            "2023-04-25 00:00:00\n",
            "20000\n",
            "2022-06-21 00:00:00\n",
            "22000\n",
            "2021-07-14 00:00:00\n",
            "24000\n",
            "2021-10-26 00:00:00\n",
            "26000\n",
            "2022-06-20 00:00:00\n",
            "28000\n",
            "2023-05-03 00:00:00\n",
            "30000\n",
            "2022-04-13 00:00:00\n",
            "32000\n",
            "2021-06-17 00:00:00\n",
            "34000\n",
            "2020-12-10 00:00:00\n",
            "36000\n",
            "2023-08-25 00:00:00\n",
            "38000\n",
            "2021-04-01 00:00:00\n",
            "40000\n",
            "2020-10-06 00:00:00\n",
            "42000\n",
            "2023-10-31 00:00:00\n",
            "44000\n",
            "2023-08-31 00:00:00\n",
            "46000\n",
            "2021-10-13 00:00:00\n",
            "48000\n",
            "2023-09-12 00:00:00\n"
          ]
        }
      ],
      "source": [
        "# take random sets of sequential rows\n",
        "new_set = []\n",
        "number_lines = 50000\n",
        "for row_set in range(0, number_lines):\n",
        "    if row_set%2000==0: print(row_set)\n",
        "    row_quant = randint(10, 30)\n",
        "    row_start = randint(0, len(bvsp_df)-row_quant)\n",
        "    market_subset = bvsp_df.iloc[row_start:row_start+row_quant]\n",
        "\n",
        "    Close_Date = max(market_subset['Date'])\n",
        "    if row_set%2000==0: print(Close_Date)\n",
        "\n",
        "    # Close_Gap = (market_subset['Close'] - market_subset['Close'].shift(1)) / market_subset['Close'].shift(1)\n",
        "    Close_Gap = market_subset['Close'].pct_change()\n",
        "    High_Gap = market_subset['High'].pct_change()\n",
        "    Low_Gap = market_subset['Low'].pct_change()\n",
        "    Volume_Gap = market_subset['Volume'].pct_change()\n",
        "    Daily_Change = (market_subset['Close'] - market_subset['Open']) / market_subset['Open']\n",
        "    Outcome_Next_Day_Direction = (market_subset['Volume'].shift(-1) - market_subset['Volume'])\n",
        "\n",
        "    new_set.append(pd.DataFrame({'Sequence_ID':[row_set]*len(market_subset),\n",
        "                            'Close_Date':[Close_Date]*len(market_subset),\n",
        "                           'Close_Gap':Close_Gap,\n",
        "                           'High_Gap':High_Gap,\n",
        "                           'Low_Gap':Low_Gap,\n",
        "                           'Volume_Gap':Volume_Gap,\n",
        "                           'Daily_Change':Daily_Change,\n",
        "                           'Outcome_Next_Day_Direction':Outcome_Next_Day_Direction}))\n"
      ]
    },
    {
      "cell_type": "code",
      "execution_count": 194,
      "metadata": {
        "id": "KX2fWm-SfdMR"
      },
      "outputs": [
        {
          "data": {
            "text/plain": [
              "19"
            ]
          },
          "execution_count": 194,
          "metadata": {},
          "output_type": "execute_result"
        }
      ],
      "source": [
        "len(market_subset)"
      ]
    },
    {
      "cell_type": "code",
      "execution_count": 195,
      "metadata": {
        "id": "3dpFq1cifip3"
      },
      "outputs": [
        {
          "name": "stdout",
          "output_type": "stream",
          "text": [
            "(1001510, 8)\n",
            "(900609, 8)\n"
          ]
        },
        {
          "data": {
            "text/html": [
              "<div>\n",
              "<style scoped>\n",
              "    .dataframe tbody tr th:only-of-type {\n",
              "        vertical-align: middle;\n",
              "    }\n",
              "\n",
              "    .dataframe tbody tr th {\n",
              "        vertical-align: top;\n",
              "    }\n",
              "\n",
              "    .dataframe thead th {\n",
              "        text-align: right;\n",
              "    }\n",
              "</style>\n",
              "<table border=\"1\" class=\"dataframe\">\n",
              "  <thead>\n",
              "    <tr style=\"text-align: right;\">\n",
              "      <th></th>\n",
              "      <th>Sequence_ID</th>\n",
              "      <th>Close_Date</th>\n",
              "      <th>Close_Gap</th>\n",
              "      <th>High_Gap</th>\n",
              "      <th>Low_Gap</th>\n",
              "      <th>Volume_Gap</th>\n",
              "      <th>Daily_Change</th>\n",
              "      <th>Outcome_Next_Day_Direction</th>\n",
              "    </tr>\n",
              "  </thead>\n",
              "  <tbody>\n",
              "    <tr>\n",
              "      <th>618</th>\n",
              "      <td>49998</td>\n",
              "      <td>2022-06-07</td>\n",
              "      <td>0.009276</td>\n",
              "      <td>0.006951</td>\n",
              "      <td>0.003573</td>\n",
              "      <td>0.026649</td>\n",
              "      <td>0.009249</td>\n",
              "      <td>-1293600.0</td>\n",
              "    </tr>\n",
              "    <tr>\n",
              "      <th>619</th>\n",
              "      <td>49998</td>\n",
              "      <td>2022-06-07</td>\n",
              "      <td>-0.011486</td>\n",
              "      <td>-0.002813</td>\n",
              "      <td>-0.002545</td>\n",
              "      <td>-0.128702</td>\n",
              "      <td>-0.011478</td>\n",
              "      <td>-545100.0</td>\n",
              "    </tr>\n",
              "    <tr>\n",
              "      <th>620</th>\n",
              "      <td>49998</td>\n",
              "      <td>2022-06-07</td>\n",
              "      <td>-0.008245</td>\n",
              "      <td>-0.004066</td>\n",
              "      <td>-0.008293</td>\n",
              "      <td>-0.062244</td>\n",
              "      <td>-0.008245</td>\n",
              "      <td>1253800.0</td>\n",
              "    </tr>\n",
              "    <tr>\n",
              "      <th>261</th>\n",
              "      <td>49999</td>\n",
              "      <td>2021-01-19</td>\n",
              "      <td>-0.014132</td>\n",
              "      <td>-0.011301</td>\n",
              "      <td>-0.024728</td>\n",
              "      <td>0.198136</td>\n",
              "      <td>-0.016989</td>\n",
              "      <td>-3399200.0</td>\n",
              "    </tr>\n",
              "    <tr>\n",
              "      <th>262</th>\n",
              "      <td>49999</td>\n",
              "      <td>2021-01-19</td>\n",
              "      <td>0.002862</td>\n",
              "      <td>-0.009473</td>\n",
              "      <td>0.008001</td>\n",
              "      <td>-0.328517</td>\n",
              "      <td>0.004515</td>\n",
              "      <td>-464600.0</td>\n",
              "    </tr>\n",
              "    <tr>\n",
              "      <th>263</th>\n",
              "      <td>49999</td>\n",
              "      <td>2021-01-19</td>\n",
              "      <td>0.012970</td>\n",
              "      <td>0.012044</td>\n",
              "      <td>0.008543</td>\n",
              "      <td>-0.066869</td>\n",
              "      <td>0.010468</td>\n",
              "      <td>688400.0</td>\n",
              "    </tr>\n",
              "    <tr>\n",
              "      <th>264</th>\n",
              "      <td>49999</td>\n",
              "      <td>2021-01-19</td>\n",
              "      <td>0.010131</td>\n",
              "      <td>0.007624</td>\n",
              "      <td>0.010023</td>\n",
              "      <td>0.106180</td>\n",
              "      <td>0.010568</td>\n",
              "      <td>-402000.0</td>\n",
              "    </tr>\n",
              "    <tr>\n",
              "      <th>265</th>\n",
              "      <td>49999</td>\n",
              "      <td>2021-01-19</td>\n",
              "      <td>0.003561</td>\n",
              "      <td>0.005436</td>\n",
              "      <td>0.008022</td>\n",
              "      <td>-0.056054</td>\n",
              "      <td>0.002896</td>\n",
              "      <td>1466000.0</td>\n",
              "    </tr>\n",
              "    <tr>\n",
              "      <th>266</th>\n",
              "      <td>49999</td>\n",
              "      <td>2021-01-19</td>\n",
              "      <td>-0.001415</td>\n",
              "      <td>0.002411</td>\n",
              "      <td>0.001423</td>\n",
              "      <td>0.216553</td>\n",
              "      <td>-0.000871</td>\n",
              "      <td>505700.0</td>\n",
              "    </tr>\n",
              "    <tr>\n",
              "      <th>267</th>\n",
              "      <td>49999</td>\n",
              "      <td>2021-01-19</td>\n",
              "      <td>-0.006270</td>\n",
              "      <td>0.001698</td>\n",
              "      <td>-0.007207</td>\n",
              "      <td>0.061403</td>\n",
              "      <td>-0.003915</td>\n",
              "      <td>515700.0</td>\n",
              "    </tr>\n",
              "    <tr>\n",
              "      <th>268</th>\n",
              "      <td>49999</td>\n",
              "      <td>2021-01-19</td>\n",
              "      <td>0.005609</td>\n",
              "      <td>-0.004686</td>\n",
              "      <td>-0.011062</td>\n",
              "      <td>0.058995</td>\n",
              "      <td>0.003265</td>\n",
              "      <td>2381100.0</td>\n",
              "    </tr>\n",
              "    <tr>\n",
              "      <th>269</th>\n",
              "      <td>49999</td>\n",
              "      <td>2021-01-19</td>\n",
              "      <td>0.005267</td>\n",
              "      <td>0.009467</td>\n",
              "      <td>0.018509</td>\n",
              "      <td>0.257219</td>\n",
              "      <td>0.003971</td>\n",
              "      <td>136600.0</td>\n",
              "    </tr>\n",
              "    <tr>\n",
              "      <th>270</th>\n",
              "      <td>49999</td>\n",
              "      <td>2021-01-19</td>\n",
              "      <td>0.017563</td>\n",
              "      <td>0.008758</td>\n",
              "      <td>0.001547</td>\n",
              "      <td>0.011737</td>\n",
              "      <td>0.023954</td>\n",
              "      <td>-689000.0</td>\n",
              "    </tr>\n",
              "    <tr>\n",
              "      <th>271</th>\n",
              "      <td>49999</td>\n",
              "      <td>2021-01-19</td>\n",
              "      <td>0.025591</td>\n",
              "      <td>0.027389</td>\n",
              "      <td>0.027582</td>\n",
              "      <td>-0.058515</td>\n",
              "      <td>0.021979</td>\n",
              "      <td>-1548200.0</td>\n",
              "    </tr>\n",
              "    <tr>\n",
              "      <th>272</th>\n",
              "      <td>49999</td>\n",
              "      <td>2021-01-19</td>\n",
              "      <td>-0.018149</td>\n",
              "      <td>-0.001987</td>\n",
              "      <td>0.000981</td>\n",
              "      <td>-0.139656</td>\n",
              "      <td>-0.018133</td>\n",
              "      <td>-588600.0</td>\n",
              "    </tr>\n",
              "    <tr>\n",
              "      <th>273</th>\n",
              "      <td>49999</td>\n",
              "      <td>2021-01-19</td>\n",
              "      <td>0.009698</td>\n",
              "      <td>-0.003926</td>\n",
              "      <td>0.005885</td>\n",
              "      <td>-0.061714</td>\n",
              "      <td>0.006028</td>\n",
              "      <td>1342500.0</td>\n",
              "    </tr>\n",
              "    <tr>\n",
              "      <th>274</th>\n",
              "      <td>49999</td>\n",
              "      <td>2021-01-19</td>\n",
              "      <td>-0.015791</td>\n",
              "      <td>-0.004431</td>\n",
              "      <td>-0.017942</td>\n",
              "      <td>0.150017</td>\n",
              "      <td>-0.015775</td>\n",
              "      <td>-1317100.0</td>\n",
              "    </tr>\n",
              "    <tr>\n",
              "      <th>275</th>\n",
              "      <td>49999</td>\n",
              "      <td>2021-01-19</td>\n",
              "      <td>0.011808</td>\n",
              "      <td>-0.001096</td>\n",
              "      <td>0.007693</td>\n",
              "      <td>-0.127979</td>\n",
              "      <td>0.012579</td>\n",
              "      <td>413200.0</td>\n",
              "    </tr>\n",
              "    <tr>\n",
              "      <th>276</th>\n",
              "      <td>49999</td>\n",
              "      <td>2021-01-19</td>\n",
              "      <td>-0.024125</td>\n",
              "      <td>-0.003422</td>\n",
              "      <td>-0.012899</td>\n",
              "      <td>0.046042</td>\n",
              "      <td>-0.024054</td>\n",
              "      <td>-2164500.0</td>\n",
              "    </tr>\n",
              "    <tr>\n",
              "      <th>277</th>\n",
              "      <td>49999</td>\n",
              "      <td>2021-01-19</td>\n",
              "      <td>0.006141</td>\n",
              "      <td>-0.007176</td>\n",
              "      <td>-0.000191</td>\n",
              "      <td>-0.230570</td>\n",
              "      <td>0.007403</td>\n",
              "      <td>662900.0</td>\n",
              "    </tr>\n",
              "  </tbody>\n",
              "</table>\n",
              "</div>"
            ],
            "text/plain": [
              "     Sequence_ID Close_Date  Close_Gap  High_Gap   Low_Gap  Volume_Gap  \\\n",
              "618        49998 2022-06-07   0.009276  0.006951  0.003573    0.026649   \n",
              "619        49998 2022-06-07  -0.011486 -0.002813 -0.002545   -0.128702   \n",
              "620        49998 2022-06-07  -0.008245 -0.004066 -0.008293   -0.062244   \n",
              "261        49999 2021-01-19  -0.014132 -0.011301 -0.024728    0.198136   \n",
              "262        49999 2021-01-19   0.002862 -0.009473  0.008001   -0.328517   \n",
              "263        49999 2021-01-19   0.012970  0.012044  0.008543   -0.066869   \n",
              "264        49999 2021-01-19   0.010131  0.007624  0.010023    0.106180   \n",
              "265        49999 2021-01-19   0.003561  0.005436  0.008022   -0.056054   \n",
              "266        49999 2021-01-19  -0.001415  0.002411  0.001423    0.216553   \n",
              "267        49999 2021-01-19  -0.006270  0.001698 -0.007207    0.061403   \n",
              "268        49999 2021-01-19   0.005609 -0.004686 -0.011062    0.058995   \n",
              "269        49999 2021-01-19   0.005267  0.009467  0.018509    0.257219   \n",
              "270        49999 2021-01-19   0.017563  0.008758  0.001547    0.011737   \n",
              "271        49999 2021-01-19   0.025591  0.027389  0.027582   -0.058515   \n",
              "272        49999 2021-01-19  -0.018149 -0.001987  0.000981   -0.139656   \n",
              "273        49999 2021-01-19   0.009698 -0.003926  0.005885   -0.061714   \n",
              "274        49999 2021-01-19  -0.015791 -0.004431 -0.017942    0.150017   \n",
              "275        49999 2021-01-19   0.011808 -0.001096  0.007693   -0.127979   \n",
              "276        49999 2021-01-19  -0.024125 -0.003422 -0.012899    0.046042   \n",
              "277        49999 2021-01-19   0.006141 -0.007176 -0.000191   -0.230570   \n",
              "\n",
              "     Daily_Change  Outcome_Next_Day_Direction  \n",
              "618      0.009249                  -1293600.0  \n",
              "619     -0.011478                   -545100.0  \n",
              "620     -0.008245                   1253800.0  \n",
              "261     -0.016989                  -3399200.0  \n",
              "262      0.004515                   -464600.0  \n",
              "263      0.010468                    688400.0  \n",
              "264      0.010568                   -402000.0  \n",
              "265      0.002896                   1466000.0  \n",
              "266     -0.000871                    505700.0  \n",
              "267     -0.003915                    515700.0  \n",
              "268      0.003265                   2381100.0  \n",
              "269      0.003971                    136600.0  \n",
              "270      0.023954                   -689000.0  \n",
              "271      0.021979                  -1548200.0  \n",
              "272     -0.018133                   -588600.0  \n",
              "273      0.006028                   1342500.0  \n",
              "274     -0.015775                  -1317100.0  \n",
              "275      0.012579                    413200.0  \n",
              "276     -0.024054                  -2164500.0  \n",
              "277      0.007403                    662900.0  "
            ]
          },
          "execution_count": 195,
          "metadata": {},
          "output_type": "execute_result"
        }
      ],
      "source": [
        "new_set_df = pd.concat(new_set)\n",
        "print(new_set_df.shape)\n",
        "new_set_df = new_set_df.dropna(how='any')\n",
        "print(new_set_df.shape)\n",
        "new_set_df.tail(20)"
      ]
    },
    {
      "cell_type": "code",
      "execution_count": 196,
      "metadata": {
        "id": "yoQxWOF8flg3"
      },
      "outputs": [
        {
          "data": {
            "text/html": [
              "<div>\n",
              "<style scoped>\n",
              "    .dataframe tbody tr th:only-of-type {\n",
              "        vertical-align: middle;\n",
              "    }\n",
              "\n",
              "    .dataframe tbody tr th {\n",
              "        vertical-align: top;\n",
              "    }\n",
              "\n",
              "    .dataframe thead th {\n",
              "        text-align: right;\n",
              "    }\n",
              "</style>\n",
              "<table border=\"1\" class=\"dataframe\">\n",
              "  <thead>\n",
              "    <tr style=\"text-align: right;\">\n",
              "      <th></th>\n",
              "      <th>Sequence_ID</th>\n",
              "      <th>Close_Date</th>\n",
              "      <th>Close_Gap</th>\n",
              "      <th>High_Gap</th>\n",
              "      <th>Low_Gap</th>\n",
              "      <th>Volume_Gap</th>\n",
              "      <th>Daily_Change</th>\n",
              "      <th>Outcome_Next_Day_Direction</th>\n",
              "    </tr>\n",
              "  </thead>\n",
              "  <tbody>\n",
              "    <tr>\n",
              "      <th>737</th>\n",
              "      <td>0</td>\n",
              "      <td>2022-12-19</td>\n",
              "      <td>-0.003247</td>\n",
              "      <td>-0.008519</td>\n",
              "      <td>0.000324</td>\n",
              "      <td>-0.123408</td>\n",
              "      <td>-0.003237</td>\n",
              "      <td>-2901500.0</td>\n",
              "    </tr>\n",
              "    <tr>\n",
              "      <th>738</th>\n",
              "      <td>0</td>\n",
              "      <td>2022-12-19</td>\n",
              "      <td>0.028965</td>\n",
              "      <td>0.030443</td>\n",
              "      <td>0.008749</td>\n",
              "      <td>-0.219837</td>\n",
              "      <td>0.027424</td>\n",
              "      <td>2012200.0</td>\n",
              "    </tr>\n",
              "    <tr>\n",
              "      <th>739</th>\n",
              "      <td>0</td>\n",
              "      <td>2022-12-19</td>\n",
              "      <td>-0.025521</td>\n",
              "      <td>-0.005213</td>\n",
              "      <td>-0.002701</td>\n",
              "      <td>0.195418</td>\n",
              "      <td>-0.025521</td>\n",
              "      <td>-816500.0</td>\n",
              "    </tr>\n",
              "    <tr>\n",
              "      <th>740</th>\n",
              "      <td>0</td>\n",
              "      <td>2022-12-19</td>\n",
              "      <td>-0.001789</td>\n",
              "      <td>-0.022754</td>\n",
              "      <td>-0.001603</td>\n",
              "      <td>-0.066333</td>\n",
              "      <td>-0.001789</td>\n",
              "      <td>3229100.0</td>\n",
              "    </tr>\n",
              "    <tr>\n",
              "      <th>741</th>\n",
              "      <td>0</td>\n",
              "      <td>2022-12-19</td>\n",
              "      <td>0.019562</td>\n",
              "      <td>0.024763</td>\n",
              "      <td>0.003746</td>\n",
              "      <td>0.280972</td>\n",
              "      <td>0.019543</td>\n",
              "      <td>4981500.0</td>\n",
              "    </tr>\n",
              "  </tbody>\n",
              "</table>\n",
              "</div>"
            ],
            "text/plain": [
              "     Sequence_ID Close_Date  Close_Gap  High_Gap   Low_Gap  Volume_Gap  \\\n",
              "737            0 2022-12-19  -0.003247 -0.008519  0.000324   -0.123408   \n",
              "738            0 2022-12-19   0.028965  0.030443  0.008749   -0.219837   \n",
              "739            0 2022-12-19  -0.025521 -0.005213 -0.002701    0.195418   \n",
              "740            0 2022-12-19  -0.001789 -0.022754 -0.001603   -0.066333   \n",
              "741            0 2022-12-19   0.019562  0.024763  0.003746    0.280972   \n",
              "\n",
              "     Daily_Change  Outcome_Next_Day_Direction  \n",
              "737     -0.003237                  -2901500.0  \n",
              "738      0.027424                   2012200.0  \n",
              "739     -0.025521                   -816500.0  \n",
              "740     -0.001789                   3229100.0  \n",
              "741      0.019543                   4981500.0  "
            ]
          },
          "execution_count": 196,
          "metadata": {},
          "output_type": "execute_result"
        }
      ],
      "source": [
        "new_set_df.head()"
      ]
    },
    {
      "cell_type": "code",
      "execution_count": 197,
      "metadata": {
        "id": "2AWNxq_Pfo52"
      },
      "outputs": [
        {
          "name": "stderr",
          "output_type": "stream",
          "text": [
            "/home/ericrc_01/.local/lib/python3.10/site-packages/numpy/lib/function_base.py:4655: RuntimeWarning: invalid value encountered in subtract\n",
            "  diff_b_a = subtract(b, a)\n"
          ]
        }
      ],
      "source": [
        "# create sequences\n",
        "# simplify the data by binning values into three groups\n",
        "\n",
        "# Close_Gap\n",
        "new_set_df['Close_Gap_LMH'] = pd.qcut(new_set_df['Close_Gap'], 3, labels=[\"L\", \"M\", \"H\"])\n",
        "\n",
        "# High_Gap - not used in this example\n",
        "new_set_df['High_Gap_LMH'] = pd.qcut(new_set_df['High_Gap'], 3, labels=[\"L\", \"M\", \"H\"])\n",
        "\n",
        "# Low_Gap - not used in this example\n",
        "new_set_df['Low_Gap_LMH'] = pd.qcut(new_set_df['Low_Gap'], 3, labels=[\"L\", \"M\", \"H\"])\n",
        "\n",
        "# Volume_Gap\n",
        "new_set_df['Volume_Gap_LMH'] = pd.qcut(new_set_df['Volume_Gap'], 3, labels=[\"L\", \"M\", \"H\"])\n",
        "\n",
        "# Daily_Change\n",
        "new_set_df['Daily_Change_LMH'] = pd.qcut(new_set_df['Daily_Change'], 3, labels=[\"L\", \"M\", \"H\"])\n",
        "\n",
        "# new set\n",
        "new_set_df = new_set_df[[\"Sequence_ID\",\n",
        "                         \"Close_Date\",\n",
        "                         \"Close_Gap_LMH\",\n",
        "                         \"Volume_Gap_LMH\",\n",
        "                         \"Daily_Change_LMH\",\n",
        "                         \"Outcome_Next_Day_Direction\"]]\n",
        "\n",
        "new_set_df['Event_Pattern'] = new_set_df['Close_Gap_LMH'].astype(str) + new_set_df['Volume_Gap_LMH'].astype(str) + new_set_df['Daily_Change_LMH'].astype(str)"
      ]
    },
    {
      "cell_type": "code",
      "execution_count": 198,
      "metadata": {
        "id": "2M6_o4kKftKX"
      },
      "outputs": [
        {
          "data": {
            "text/html": [
              "<div>\n",
              "<style scoped>\n",
              "    .dataframe tbody tr th:only-of-type {\n",
              "        vertical-align: middle;\n",
              "    }\n",
              "\n",
              "    .dataframe tbody tr th {\n",
              "        vertical-align: top;\n",
              "    }\n",
              "\n",
              "    .dataframe thead th {\n",
              "        text-align: right;\n",
              "    }\n",
              "</style>\n",
              "<table border=\"1\" class=\"dataframe\">\n",
              "  <thead>\n",
              "    <tr style=\"text-align: right;\">\n",
              "      <th></th>\n",
              "      <th>Sequence_ID</th>\n",
              "      <th>Close_Date</th>\n",
              "      <th>Close_Gap_LMH</th>\n",
              "      <th>Volume_Gap_LMH</th>\n",
              "      <th>Daily_Change_LMH</th>\n",
              "      <th>Outcome_Next_Day_Direction</th>\n",
              "      <th>Event_Pattern</th>\n",
              "    </tr>\n",
              "  </thead>\n",
              "  <tbody>\n",
              "    <tr>\n",
              "      <th>268</th>\n",
              "      <td>49999</td>\n",
              "      <td>2021-01-19</td>\n",
              "      <td>M</td>\n",
              "      <td>M</td>\n",
              "      <td>M</td>\n",
              "      <td>2381100.0</td>\n",
              "      <td>MMM</td>\n",
              "    </tr>\n",
              "    <tr>\n",
              "      <th>269</th>\n",
              "      <td>49999</td>\n",
              "      <td>2021-01-19</td>\n",
              "      <td>M</td>\n",
              "      <td>H</td>\n",
              "      <td>M</td>\n",
              "      <td>136600.0</td>\n",
              "      <td>MHM</td>\n",
              "    </tr>\n",
              "    <tr>\n",
              "      <th>270</th>\n",
              "      <td>49999</td>\n",
              "      <td>2021-01-19</td>\n",
              "      <td>H</td>\n",
              "      <td>M</td>\n",
              "      <td>H</td>\n",
              "      <td>-689000.0</td>\n",
              "      <td>HMH</td>\n",
              "    </tr>\n",
              "    <tr>\n",
              "      <th>271</th>\n",
              "      <td>49999</td>\n",
              "      <td>2021-01-19</td>\n",
              "      <td>H</td>\n",
              "      <td>M</td>\n",
              "      <td>H</td>\n",
              "      <td>-1548200.0</td>\n",
              "      <td>HMH</td>\n",
              "    </tr>\n",
              "    <tr>\n",
              "      <th>272</th>\n",
              "      <td>49999</td>\n",
              "      <td>2021-01-19</td>\n",
              "      <td>L</td>\n",
              "      <td>L</td>\n",
              "      <td>L</td>\n",
              "      <td>-588600.0</td>\n",
              "      <td>LLL</td>\n",
              "    </tr>\n",
              "    <tr>\n",
              "      <th>273</th>\n",
              "      <td>49999</td>\n",
              "      <td>2021-01-19</td>\n",
              "      <td>H</td>\n",
              "      <td>M</td>\n",
              "      <td>M</td>\n",
              "      <td>1342500.0</td>\n",
              "      <td>HMM</td>\n",
              "    </tr>\n",
              "    <tr>\n",
              "      <th>274</th>\n",
              "      <td>49999</td>\n",
              "      <td>2021-01-19</td>\n",
              "      <td>L</td>\n",
              "      <td>H</td>\n",
              "      <td>L</td>\n",
              "      <td>-1317100.0</td>\n",
              "      <td>LHL</td>\n",
              "    </tr>\n",
              "    <tr>\n",
              "      <th>275</th>\n",
              "      <td>49999</td>\n",
              "      <td>2021-01-19</td>\n",
              "      <td>H</td>\n",
              "      <td>L</td>\n",
              "      <td>H</td>\n",
              "      <td>413200.0</td>\n",
              "      <td>HLH</td>\n",
              "    </tr>\n",
              "    <tr>\n",
              "      <th>276</th>\n",
              "      <td>49999</td>\n",
              "      <td>2021-01-19</td>\n",
              "      <td>L</td>\n",
              "      <td>M</td>\n",
              "      <td>L</td>\n",
              "      <td>-2164500.0</td>\n",
              "      <td>LML</td>\n",
              "    </tr>\n",
              "    <tr>\n",
              "      <th>277</th>\n",
              "      <td>49999</td>\n",
              "      <td>2021-01-19</td>\n",
              "      <td>M</td>\n",
              "      <td>L</td>\n",
              "      <td>H</td>\n",
              "      <td>662900.0</td>\n",
              "      <td>MLH</td>\n",
              "    </tr>\n",
              "  </tbody>\n",
              "</table>\n",
              "</div>"
            ],
            "text/plain": [
              "     Sequence_ID Close_Date Close_Gap_LMH Volume_Gap_LMH Daily_Change_LMH  \\\n",
              "268        49999 2021-01-19             M              M                M   \n",
              "269        49999 2021-01-19             M              H                M   \n",
              "270        49999 2021-01-19             H              M                H   \n",
              "271        49999 2021-01-19             H              M                H   \n",
              "272        49999 2021-01-19             L              L                L   \n",
              "273        49999 2021-01-19             H              M                M   \n",
              "274        49999 2021-01-19             L              H                L   \n",
              "275        49999 2021-01-19             H              L                H   \n",
              "276        49999 2021-01-19             L              M                L   \n",
              "277        49999 2021-01-19             M              L                H   \n",
              "\n",
              "     Outcome_Next_Day_Direction Event_Pattern  \n",
              "268                   2381100.0           MMM  \n",
              "269                    136600.0           MHM  \n",
              "270                   -689000.0           HMH  \n",
              "271                  -1548200.0           HMH  \n",
              "272                   -588600.0           LLL  \n",
              "273                   1342500.0           HMM  \n",
              "274                  -1317100.0           LHL  \n",
              "275                    413200.0           HLH  \n",
              "276                  -2164500.0           LML  \n",
              "277                    662900.0           MLH  "
            ]
          },
          "execution_count": 198,
          "metadata": {},
          "output_type": "execute_result"
        }
      ],
      "source": [
        "new_set_df.tail(10)"
      ]
    },
    {
      "cell_type": "code",
      "execution_count": 199,
      "metadata": {
        "id": "D9zyqO9nfvoI"
      },
      "outputs": [
        {
          "data": {
            "text/plain": [
              "count    9.006090e+05\n",
              "mean    -3.377410e+03\n",
              "std      3.241571e+06\n",
              "min     -1.923840e+07\n",
              "25%     -1.397500e+06\n",
              "50%     -9.600000e+03\n",
              "75%      1.440000e+06\n",
              "max      1.213530e+07\n",
              "Name: Outcome_Next_Day_Direction, dtype: float64"
            ]
          },
          "execution_count": 199,
          "metadata": {},
          "output_type": "execute_result"
        }
      ],
      "source": [
        "new_set_df['Outcome_Next_Day_Direction'].describe()"
      ]
    },
    {
      "cell_type": "code",
      "execution_count": 200,
      "metadata": {
        "id": "4wPRcCdefxnI"
      },
      "outputs": [
        {
          "name": "stdout",
          "output_type": "stream",
          "text": [
            "(50000, 3)\n"
          ]
        },
        {
          "data": {
            "text/html": [
              "<div>\n",
              "<style scoped>\n",
              "    .dataframe tbody tr th:only-of-type {\n",
              "        vertical-align: middle;\n",
              "    }\n",
              "\n",
              "    .dataframe tbody tr th {\n",
              "        vertical-align: top;\n",
              "    }\n",
              "\n",
              "    .dataframe thead th {\n",
              "        text-align: right;\n",
              "    }\n",
              "</style>\n",
              "<table border=\"1\" class=\"dataframe\">\n",
              "  <thead>\n",
              "    <tr style=\"text-align: right;\">\n",
              "      <th></th>\n",
              "      <th>Sequence_ID</th>\n",
              "      <th>Close_Date</th>\n",
              "      <th>Event_Pattern</th>\n",
              "    </tr>\n",
              "  </thead>\n",
              "  <tbody>\n",
              "    <tr>\n",
              "      <th>0</th>\n",
              "      <td>0</td>\n",
              "      <td>2022-12-19</td>\n",
              "      <td>{MLM, HLH, LHL, MMM, HHH, HHH, LLL, HMH, LLL, ...</td>\n",
              "    </tr>\n",
              "    <tr>\n",
              "      <th>1</th>\n",
              "      <td>1</td>\n",
              "      <td>2023-02-23</td>\n",
              "      <td>{MHL, LLL, LLL, HHH, HMH, MHH, LML, LLM, HLH, ...</td>\n",
              "    </tr>\n",
              "    <tr>\n",
              "      <th>2</th>\n",
              "      <td>2</td>\n",
              "      <td>2021-08-10</td>\n",
              "      <td>{LHL, LML, LHL, HLH, MMM, MLM, LML, HMH, LHL, ...</td>\n",
              "    </tr>\n",
              "    <tr>\n",
              "      <th>3</th>\n",
              "      <td>3</td>\n",
              "      <td>2023-06-16</td>\n",
              "      <td>{HLH, LLL, LHL, LHL, HMH, HMH, MLM, HHH, HMH, ...</td>\n",
              "    </tr>\n",
              "    <tr>\n",
              "      <th>4</th>\n",
              "      <td>4</td>\n",
              "      <td>2022-12-21</td>\n",
              "      <td>{HHH, LLL, HMH, LLL, MHM, MML, LML, MLM, LHL, ...</td>\n",
              "    </tr>\n",
              "  </tbody>\n",
              "</table>\n",
              "</div>"
            ],
            "text/plain": [
              "   Sequence_ID Close_Date                                      Event_Pattern\n",
              "0            0 2022-12-19  {MLM, HLH, LHL, MMM, HHH, HHH, LLL, HMH, LLL, ...\n",
              "1            1 2023-02-23  {MHL, LLL, LLL, HHH, HMH, MHH, LML, LLM, HLH, ...\n",
              "2            2 2021-08-10  {LHL, LML, LHL, HLH, MMM, MLM, LML, HMH, LHL, ...\n",
              "3            3 2023-06-16  {HLH, LLL, LHL, LHL, HMH, HMH, MLM, HHH, HMH, ...\n",
              "4            4 2022-12-21  {HHH, LLL, HMH, LLL, MHM, MML, LML, MLM, LHL, ..."
            ]
          },
          "execution_count": 200,
          "metadata": {},
          "output_type": "execute_result"
        }
      ],
      "source": [
        "# reduce the set\n",
        "compressed_set = new_set_df.groupby(['Sequence_ID',\n",
        "                                     'Close_Date'])['Event_Pattern'].apply(lambda x: \"{%s}\" % ', '.join(x)).reset_index()\n",
        "\n",
        "print(compressed_set.shape)\n",
        "compressed_set.head()"
      ]
    },
    {
      "cell_type": "code",
      "execution_count": 201,
      "metadata": {
        "id": "1IxDBlvkf0EM"
      },
      "outputs": [
        {
          "name": "stdout",
          "output_type": "stream",
          "text": [
            "(50000, 3)\n"
          ]
        },
        {
          "data": {
            "text/html": [
              "<div>\n",
              "<style scoped>\n",
              "    .dataframe tbody tr th:only-of-type {\n",
              "        vertical-align: middle;\n",
              "    }\n",
              "\n",
              "    .dataframe tbody tr th {\n",
              "        vertical-align: top;\n",
              "    }\n",
              "\n",
              "    .dataframe thead th {\n",
              "        text-align: right;\n",
              "    }\n",
              "</style>\n",
              "<table border=\"1\" class=\"dataframe\">\n",
              "  <thead>\n",
              "    <tr style=\"text-align: right;\">\n",
              "      <th></th>\n",
              "      <th>Sequence_ID</th>\n",
              "      <th>Close_Date</th>\n",
              "      <th>Outcome_Next_Day_Direction</th>\n",
              "    </tr>\n",
              "  </thead>\n",
              "  <tbody>\n",
              "    <tr>\n",
              "      <th>count</th>\n",
              "      <td>50000.000000</td>\n",
              "      <td>50000</td>\n",
              "      <td>5.000000e+04</td>\n",
              "    </tr>\n",
              "    <tr>\n",
              "      <th>mean</th>\n",
              "      <td>24999.500000</td>\n",
              "      <td>2021-12-17 21:02:51.071999744</td>\n",
              "      <td>-4.126901e+03</td>\n",
              "    </tr>\n",
              "    <tr>\n",
              "      <th>min</th>\n",
              "      <td>0.000000</td>\n",
              "      <td>2019-12-13 00:00:00</td>\n",
              "      <td>-2.463000e+06</td>\n",
              "    </tr>\n",
              "    <tr>\n",
              "      <th>25%</th>\n",
              "      <td>12499.750000</td>\n",
              "      <td>2020-12-23 00:00:00</td>\n",
              "      <td>-1.156985e+05</td>\n",
              "    </tr>\n",
              "    <tr>\n",
              "      <th>50%</th>\n",
              "      <td>24999.500000</td>\n",
              "      <td>2021-12-20 00:00:00</td>\n",
              "      <td>5.947619e+03</td>\n",
              "    </tr>\n",
              "    <tr>\n",
              "      <th>75%</th>\n",
              "      <td>37499.250000</td>\n",
              "      <td>2022-12-07 00:00:00</td>\n",
              "      <td>1.245000e+05</td>\n",
              "    </tr>\n",
              "    <tr>\n",
              "      <th>max</th>\n",
              "      <td>49999.000000</td>\n",
              "      <td>2023-12-01 00:00:00</td>\n",
              "      <td>1.746000e+06</td>\n",
              "    </tr>\n",
              "    <tr>\n",
              "      <th>std</th>\n",
              "      <td>14433.901067</td>\n",
              "      <td>NaN</td>\n",
              "      <td>2.843694e+05</td>\n",
              "    </tr>\n",
              "  </tbody>\n",
              "</table>\n",
              "</div>"
            ],
            "text/plain": [
              "        Sequence_ID                     Close_Date  Outcome_Next_Day_Direction\n",
              "count  50000.000000                          50000                5.000000e+04\n",
              "mean   24999.500000  2021-12-17 21:02:51.071999744               -4.126901e+03\n",
              "min        0.000000            2019-12-13 00:00:00               -2.463000e+06\n",
              "25%    12499.750000            2020-12-23 00:00:00               -1.156985e+05\n",
              "50%    24999.500000            2021-12-20 00:00:00                5.947619e+03\n",
              "75%    37499.250000            2022-12-07 00:00:00                1.245000e+05\n",
              "max    49999.000000            2023-12-01 00:00:00                1.746000e+06\n",
              "std    14433.901067                            NaN                2.843694e+05"
            ]
          },
          "execution_count": 201,
          "metadata": {},
          "output_type": "execute_result"
        }
      ],
      "source": [
        "#compressed_outcomes = new_set_df[['Sequence_ID', 'Close_Date', 'Outcome_Next_Day_Direction']].groupby(['Sequence_ID', 'Close_Date']).agg()\n",
        "\n",
        "compressed_outcomes = new_set_df.groupby(['Sequence_ID', 'Close_Date'])['Outcome_Next_Day_Direction'].mean()\n",
        "compressed_outcomes = compressed_outcomes.to_frame().reset_index()\n",
        "print(compressed_outcomes.shape)\n",
        "compressed_outcomes.describe()"
      ]
    },
    {
      "cell_type": "code",
      "execution_count": 202,
      "metadata": {
        "id": "08KEQMbQf2C1"
      },
      "outputs": [
        {
          "name": "stdout",
          "output_type": "stream",
          "text": [
            "(50000, 4)\n"
          ]
        },
        {
          "data": {
            "text/html": [
              "<div>\n",
              "<style scoped>\n",
              "    .dataframe tbody tr th:only-of-type {\n",
              "        vertical-align: middle;\n",
              "    }\n",
              "\n",
              "    .dataframe tbody tr th {\n",
              "        vertical-align: top;\n",
              "    }\n",
              "\n",
              "    .dataframe thead th {\n",
              "        text-align: right;\n",
              "    }\n",
              "</style>\n",
              "<table border=\"1\" class=\"dataframe\">\n",
              "  <thead>\n",
              "    <tr style=\"text-align: right;\">\n",
              "      <th></th>\n",
              "      <th>Sequence_ID</th>\n",
              "      <th>Close_Date</th>\n",
              "      <th>Event_Pattern</th>\n",
              "      <th>Outcome_Next_Day_Direction</th>\n",
              "    </tr>\n",
              "  </thead>\n",
              "  <tbody>\n",
              "    <tr>\n",
              "      <th>0</th>\n",
              "      <td>0</td>\n",
              "      <td>2022-12-19</td>\n",
              "      <td>{MLM, HLH, LHL, MMM, HHH, HHH, LLL, HMH, LLL, ...</td>\n",
              "      <td>198611.111111</td>\n",
              "    </tr>\n",
              "    <tr>\n",
              "      <th>1</th>\n",
              "      <td>1</td>\n",
              "      <td>2023-02-23</td>\n",
              "      <td>{MHL, LLL, LLL, HHH, HMH, MHH, LML, LLM, HLH, ...</td>\n",
              "      <td>-299289.285714</td>\n",
              "    </tr>\n",
              "    <tr>\n",
              "      <th>2</th>\n",
              "      <td>2</td>\n",
              "      <td>2021-08-10</td>\n",
              "      <td>{LHL, LML, LHL, HLH, MMM, MLM, LML, HMH, LHL, ...</td>\n",
              "      <td>48833.333333</td>\n",
              "    </tr>\n",
              "    <tr>\n",
              "      <th>3</th>\n",
              "      <td>3</td>\n",
              "      <td>2023-06-16</td>\n",
              "      <td>{HLH, LLL, LHL, LHL, HMH, HMH, MLM, HHH, HMH, ...</td>\n",
              "      <td>302285.714286</td>\n",
              "    </tr>\n",
              "    <tr>\n",
              "      <th>4</th>\n",
              "      <td>4</td>\n",
              "      <td>2022-12-21</td>\n",
              "      <td>{HHH, LLL, HMH, LLL, MHM, MML, LML, MLM, LHL, ...</td>\n",
              "      <td>-137886.666667</td>\n",
              "    </tr>\n",
              "  </tbody>\n",
              "</table>\n",
              "</div>"
            ],
            "text/plain": [
              "   Sequence_ID Close_Date                                      Event_Pattern  \\\n",
              "0            0 2022-12-19  {MLM, HLH, LHL, MMM, HHH, HHH, LLL, HMH, LLL, ...   \n",
              "1            1 2023-02-23  {MHL, LLL, LLL, HHH, HMH, MHH, LML, LLM, HLH, ...   \n",
              "2            2 2021-08-10  {LHL, LML, LHL, HLH, MMM, MLM, LML, HMH, LHL, ...   \n",
              "3            3 2023-06-16  {HLH, LLL, LHL, LHL, HMH, HMH, MLM, HHH, HMH, ...   \n",
              "4            4 2022-12-21  {HHH, LLL, HMH, LLL, MHM, MML, LML, MLM, LHL, ...   \n",
              "\n",
              "   Outcome_Next_Day_Direction  \n",
              "0               198611.111111  \n",
              "1              -299289.285714  \n",
              "2                48833.333333  \n",
              "3               302285.714286  \n",
              "4              -137886.666667  "
            ]
          },
          "execution_count": 202,
          "metadata": {},
          "output_type": "execute_result"
        }
      ],
      "source": [
        "compressed_set = pd.merge(compressed_set, compressed_outcomes, on= ['Sequence_ID', 'Close_Date'], how='inner')\n",
        "print(compressed_set.shape)\n",
        "compressed_set.head()"
      ]
    },
    {
      "cell_type": "code",
      "execution_count": 203,
      "metadata": {
        "id": "Z-CR3VC8f4VM"
      },
      "outputs": [
        {
          "data": {
            "text/html": [
              "<div>\n",
              "<style scoped>\n",
              "    .dataframe tbody tr th:only-of-type {\n",
              "        vertical-align: middle;\n",
              "    }\n",
              "\n",
              "    .dataframe tbody tr th {\n",
              "        vertical-align: top;\n",
              "    }\n",
              "\n",
              "    .dataframe thead th {\n",
              "        text-align: right;\n",
              "    }\n",
              "</style>\n",
              "<table border=\"1\" class=\"dataframe\">\n",
              "  <thead>\n",
              "    <tr style=\"text-align: right;\">\n",
              "      <th></th>\n",
              "      <th>Sequence_ID</th>\n",
              "      <th>Close_Date</th>\n",
              "      <th>Event_Pattern</th>\n",
              "      <th>Outcome_Next_Day_Direction</th>\n",
              "    </tr>\n",
              "  </thead>\n",
              "  <tbody>\n",
              "    <tr>\n",
              "      <th>0</th>\n",
              "      <td>0</td>\n",
              "      <td>2022-12-19</td>\n",
              "      <td>MLM,HLH,LHL,MMM,HHH,HHH,LLL,HMH,LLL,MHM,MML,LM...</td>\n",
              "      <td>198611.111111</td>\n",
              "    </tr>\n",
              "    <tr>\n",
              "      <th>1</th>\n",
              "      <td>1</td>\n",
              "      <td>2023-02-23</td>\n",
              "      <td>MHL,LLL,LLL,HHH,HMH,MHH,LML,LLM,HLH,HMH,MMM,LM...</td>\n",
              "      <td>-299289.285714</td>\n",
              "    </tr>\n",
              "    <tr>\n",
              "      <th>2</th>\n",
              "      <td>2</td>\n",
              "      <td>2021-08-10</td>\n",
              "      <td>LHL,LML,LHL,HLH,MMM,MLM,LML,HMH,LHL,HHH,MLM,LH...</td>\n",
              "      <td>48833.333333</td>\n",
              "    </tr>\n",
              "    <tr>\n",
              "      <th>3</th>\n",
              "      <td>3</td>\n",
              "      <td>2023-06-16</td>\n",
              "      <td>HLH,LLL,LHL,LHL,HMH,HMH,MLM,HHH,HMH,HMH,MLM,LM...</td>\n",
              "      <td>302285.714286</td>\n",
              "    </tr>\n",
              "    <tr>\n",
              "      <th>4</th>\n",
              "      <td>4</td>\n",
              "      <td>2022-12-21</td>\n",
              "      <td>HHH,LLL,HMH,LLL,MHM,MML,LML,MLM,LHL,LHL,MHM,ML...</td>\n",
              "      <td>-137886.666667</td>\n",
              "    </tr>\n",
              "  </tbody>\n",
              "</table>\n",
              "</div>"
            ],
            "text/plain": [
              "   Sequence_ID Close_Date                                      Event_Pattern  \\\n",
              "0            0 2022-12-19  MLM,HLH,LHL,MMM,HHH,HHH,LLL,HMH,LLL,MHM,MML,LM...   \n",
              "1            1 2023-02-23  MHL,LLL,LLL,HHH,HMH,MHH,LML,LLM,HLH,HMH,MMM,LM...   \n",
              "2            2 2021-08-10  LHL,LML,LHL,HLH,MMM,MLM,LML,HMH,LHL,HHH,MLM,LH...   \n",
              "3            3 2023-06-16  HLH,LLL,LHL,LHL,HMH,HMH,MLM,HHH,HMH,HMH,MLM,LM...   \n",
              "4            4 2022-12-21  HHH,LLL,HMH,LLL,MHM,MML,LML,MLM,LHL,LHL,MHM,ML...   \n",
              "\n",
              "   Outcome_Next_Day_Direction  \n",
              "0               198611.111111  \n",
              "1              -299289.285714  \n",
              "2                48833.333333  \n",
              "3               302285.714286  \n",
              "4              -137886.666667  "
            ]
          },
          "execution_count": 203,
          "metadata": {},
          "output_type": "execute_result"
        }
      ],
      "source": [
        "# # reduce set\n",
        "\n",
        "# compressed_set = new_set_df.groupby(['Sequence_ID', 'Close_Date','Outcome_Next_Day_Direction'])['Event_Pattern'].apply(lambda x: \"{%s}\" % ', '.join(x)).reset_index()\n",
        "\n",
        "compressed_set['Event_Pattern'] = [''.join(e.split()).replace('{','')\n",
        "                                   .replace('}','') for e in compressed_set['Event_Pattern'].values]\n",
        "compressed_set.head()"
      ]
    },
    {
      "cell_type": "code",
      "execution_count": 204,
      "metadata": {
        "id": "u5b6U8LJf6tW"
      },
      "outputs": [
        {
          "data": {
            "text/plain": [
              "(3154, 4)"
            ]
          },
          "execution_count": 204,
          "metadata": {},
          "output_type": "execute_result"
        }
      ],
      "source": [
        "# use last x days of data for validation\n",
        "compressed_set_validation = compressed_set[compressed_set['Close_Date'] >= datetime.datetime.now()\n",
        "                                           - datetime.timedelta(days=90)] # Sys.Date()-90\n",
        "\n",
        "compressed_set_validation.shape\n"
      ]
    },
    {
      "cell_type": "code",
      "execution_count": 205,
      "metadata": {
        "id": "KJBZfGORf9sE"
      },
      "outputs": [
        {
          "data": {
            "text/plain": [
              "(46846, 4)"
            ]
          },
          "execution_count": 205,
          "metadata": {},
          "output_type": "execute_result"
        }
      ],
      "source": [
        "compressed_set = compressed_set[compressed_set['Close_Date'] < datetime.datetime.now()\n",
        "                                           - datetime.timedelta(days=90)]\n",
        "compressed_set.shape"
      ]
    },
    {
      "cell_type": "code",
      "execution_count": 206,
      "metadata": {
        "id": "tErQ1O8lgRf7"
      },
      "outputs": [
        {
          "data": {
            "text/plain": [
              "['Sequence_ID', 'Close_Date', 'Event_Pattern', 'Outcome_Next_Day_Direction']"
            ]
          },
          "execution_count": 206,
          "metadata": {},
          "output_type": "execute_result"
        }
      ],
      "source": [
        "list(compressed_set)"
      ]
    },
    {
      "cell_type": "code",
      "execution_count": 207,
      "metadata": {
        "id": "08RtwvI4gSy9"
      },
      "outputs": [],
      "source": [
        "# drop date field\n",
        "compressed_set = compressed_set[['Sequence_ID', 'Event_Pattern','Outcome_Next_Day_Direction']]\n",
        "compressed_set_validation = compressed_set_validation[['Sequence_ID', 'Event_Pattern','Outcome_Next_Day_Direction']]"
      ]
    },
    {
      "cell_type": "code",
      "execution_count": 208,
      "metadata": {
        "id": "MwVuMBhSgVAa"
      },
      "outputs": [
        {
          "data": {
            "text/plain": [
              "count    4.684600e+04\n",
              "mean    -5.021442e+03\n",
              "std      2.817747e+05\n",
              "min     -2.463000e+06\n",
              "25%     -1.165140e+05\n",
              "50%      5.205655e+03\n",
              "75%      1.227875e+05\n",
              "max      1.643700e+06\n",
              "Name: Outcome_Next_Day_Direction, dtype: float64"
            ]
          },
          "execution_count": 208,
          "metadata": {},
          "output_type": "execute_result"
        }
      ],
      "source": [
        "compressed_set['Outcome_Next_Day_Direction'].describe()"
      ]
    },
    {
      "cell_type": "code",
      "execution_count": 209,
      "metadata": {
        "id": "mxJ72z4_gWfZ"
      },
      "outputs": [
        {
          "name": "stdout",
          "output_type": "stream",
          "text": [
            "46846\n"
          ]
        },
        {
          "data": {
            "text/plain": [
              "46595"
            ]
          },
          "execution_count": 209,
          "metadata": {},
          "output_type": "execute_result"
        }
      ],
      "source": [
        "print(len(compressed_set['Outcome_Next_Day_Direction']))\n",
        "len(compressed_set[abs(compressed_set['Outcome_Next_Day_Direction']) > 1000])"
      ]
    },
    {
      "cell_type": "code",
      "execution_count": 210,
      "metadata": {
        "id": "OBJ-Uj42gYxL"
      },
      "outputs": [
        {
          "name": "stdout",
          "output_type": "stream",
          "text": [
            "all moves: 46846\n",
            "big moves only: 46595\n"
          ]
        }
      ],
      "source": [
        "# keep only keep big/interesting moves\n",
        "print('all moves:', len(compressed_set))\n",
        "compressed_set = compressed_set[abs(compressed_set['Outcome_Next_Day_Direction']) > 1000]\n",
        "compressed_set['Outcome_Next_Day_Direction'] = np.where((compressed_set['Outcome_Next_Day_Direction'] > 0), 1, 0)\n",
        "compressed_set_validation['Outcome_Next_Day_Direction'] = np.where((compressed_set_validation['Outcome_Next_Day_Direction'] > 0), 1, 0)\n",
        "print('big moves only:', len(compressed_set))"
      ]
    },
    {
      "cell_type": "code",
      "execution_count": 211,
      "metadata": {
        "id": "ynybmA5HgdWx"
      },
      "outputs": [
        {
          "data": {
            "text/html": [
              "<div>\n",
              "<style scoped>\n",
              "    .dataframe tbody tr th:only-of-type {\n",
              "        vertical-align: middle;\n",
              "    }\n",
              "\n",
              "    .dataframe tbody tr th {\n",
              "        vertical-align: top;\n",
              "    }\n",
              "\n",
              "    .dataframe thead th {\n",
              "        text-align: right;\n",
              "    }\n",
              "</style>\n",
              "<table border=\"1\" class=\"dataframe\">\n",
              "  <thead>\n",
              "    <tr style=\"text-align: right;\">\n",
              "      <th></th>\n",
              "      <th>Sequence_ID</th>\n",
              "      <th>Event_Pattern</th>\n",
              "      <th>Outcome_Next_Day_Direction</th>\n",
              "    </tr>\n",
              "  </thead>\n",
              "  <tbody>\n",
              "    <tr>\n",
              "      <th>0</th>\n",
              "      <td>0</td>\n",
              "      <td>MLM,HLH,LHL,MMM,HHH,HHH,LLL,HMH,LLL,MHM,MML,LM...</td>\n",
              "      <td>1</td>\n",
              "    </tr>\n",
              "    <tr>\n",
              "      <th>1</th>\n",
              "      <td>1</td>\n",
              "      <td>MHL,LLL,LLL,HHH,HMH,MHH,LML,LLM,HLH,HMH,MMM,LM...</td>\n",
              "      <td>0</td>\n",
              "    </tr>\n",
              "    <tr>\n",
              "      <th>2</th>\n",
              "      <td>2</td>\n",
              "      <td>LHL,LML,LHL,HLH,MMM,MLM,LML,HMH,LHL,HHH,MLM,LH...</td>\n",
              "      <td>1</td>\n",
              "    </tr>\n",
              "    <tr>\n",
              "      <th>3</th>\n",
              "      <td>3</td>\n",
              "      <td>HLH,LLL,LHL,LHL,HMH,HMH,MLM,HHH,HMH,HMH,MLM,LM...</td>\n",
              "      <td>1</td>\n",
              "    </tr>\n",
              "    <tr>\n",
              "      <th>4</th>\n",
              "      <td>4</td>\n",
              "      <td>HHH,LLL,HMH,LLL,MHM,MML,LML,MLM,LHL,LHL,MHM,ML...</td>\n",
              "      <td>0</td>\n",
              "    </tr>\n",
              "  </tbody>\n",
              "</table>\n",
              "</div>"
            ],
            "text/plain": [
              "   Sequence_ID                                      Event_Pattern  \\\n",
              "0            0  MLM,HLH,LHL,MMM,HHH,HHH,LLL,HMH,LLL,MHM,MML,LM...   \n",
              "1            1  MHL,LLL,LLL,HHH,HMH,MHH,LML,LLM,HLH,HMH,MMM,LM...   \n",
              "2            2  LHL,LML,LHL,HLH,MMM,MLM,LML,HMH,LHL,HHH,MLM,LH...   \n",
              "3            3  HLH,LLL,LHL,LHL,HMH,HMH,MLM,HHH,HMH,HMH,MLM,LM...   \n",
              "4            4  HHH,LLL,HMH,LLL,MHM,MML,LML,MLM,LHL,LHL,MHM,ML...   \n",
              "\n",
              "   Outcome_Next_Day_Direction  \n",
              "0                           1  \n",
              "1                           0  \n",
              "2                           1  \n",
              "3                           1  \n",
              "4                           0  "
            ]
          },
          "execution_count": 211,
          "metadata": {},
          "output_type": "execute_result"
        }
      ],
      "source": [
        "compressed_set.head()"
      ]
    },
    {
      "cell_type": "code",
      "execution_count": 212,
      "metadata": {
        "id": "Or1Vh76fgffp"
      },
      "outputs": [
        {
          "name": "stdout",
          "output_type": "stream",
          "text": [
            "(23937, 2)\n",
            "(22658, 2)\n"
          ]
        }
      ],
      "source": [
        "# create two data sets - won/not won\n",
        "compressed_set_pos = compressed_set[compressed_set['Outcome_Next_Day_Direction']==1][['Sequence_ID', 'Event_Pattern']]\n",
        "print(compressed_set_pos.shape)\n",
        "compressed_set_neg = compressed_set[compressed_set['Outcome_Next_Day_Direction']==0][['Sequence_ID', 'Event_Pattern']]\n",
        "print(compressed_set_neg.shape)"
      ]
    },
    {
      "cell_type": "code",
      "execution_count": 213,
      "metadata": {
        "id": "HwZYDDisghaU"
      },
      "outputs": [
        {
          "data": {
            "text/plain": [
              "19"
            ]
          },
          "execution_count": 213,
          "metadata": {},
          "output_type": "execute_result"
        }
      ],
      "source": [
        "flat_list = [item.split(',') for item in compressed_set['Event_Pattern'].values ]\n",
        "unique_patterns = ','.join(str(r) for v in flat_list for r in v)\n",
        "unique_patterns = list(set(unique_patterns.split(',')))\n",
        "len(unique_patterns)"
      ]
    },
    {
      "cell_type": "code",
      "execution_count": 214,
      "metadata": {
        "id": "tYMbSla0gjeU"
      },
      "outputs": [
        {
          "data": {
            "text/plain": [
              "0    1\n",
              "1    0\n",
              "2    1\n",
              "3    1\n",
              "4    0\n",
              "Name: Outcome_Next_Day_Direction, dtype: int64"
            ]
          },
          "execution_count": 214,
          "metadata": {},
          "output_type": "execute_result"
        }
      ],
      "source": [
        "compressed_set['Outcome_Next_Day_Direction'].head()"
      ]
    },
    {
      "cell_type": "code",
      "execution_count": 215,
      "metadata": {
        "id": "5fYtcKyUgnLA"
      },
      "outputs": [],
      "source": [
        "# build the markov transition grid\n",
        "def build_transition_grid(compressed_grid, unique_patterns):\n",
        "    # build the markov transition grid\n",
        "\n",
        "    patterns = []\n",
        "    counts = []\n",
        "    for from_event in unique_patterns:\n",
        "\n",
        "        # how many times\n",
        "        for to_event in unique_patterns:\n",
        "            pattern = from_event + ',' + to_event # MMM,MlM\n",
        "\n",
        "            ids_matches = compressed_grid[compressed_grid['Event_Pattern'].str.contains(pattern)]\n",
        "            found = 0\n",
        "            if len(ids_matches) > 0:\n",
        "                Event_Pattern = '---'.join(ids_matches['Event_Pattern'].values)\n",
        "                found = Event_Pattern.count(pattern)\n",
        "            patterns.append(pattern)\n",
        "            counts.append(found)\n",
        "\n",
        "    # create to/from grid\n",
        "    grid_Df = pd.DataFrame({'pairs':patterns, 'counts': counts})\n",
        "\n",
        "    grid_Df['x'], grid_Df['y'] = grid_Df['pairs'].str.split(',', 1).str\n",
        "    grid_Df.head()\n",
        "\n",
        "    grid_Df = grid_Df.pivot(index='x', columns='y', values='counts')\n",
        "\n",
        "    grid_Df.columns= [col for col in grid_Df.columns]\n",
        "    #del grid_Df.index.name\n",
        "\n",
        "    # replace all NaN with zeros\n",
        "    grid_Df.fillna(0, inplace=True)\n",
        "    grid_Df.head()\n",
        "\n",
        "    #grid_Df.rowSums(transition_dataframe)\n",
        "    grid_Df = grid_Df / grid_Df.sum(1)\n",
        "    return (grid_Df)"
      ]
    },
    {
      "cell_type": "code",
      "execution_count": 216,
      "metadata": {
        "id": "L5EGCvpXgrSI"
      },
      "outputs": [
        {
          "ename": "TypeError",
          "evalue": "StringMethods.split() takes from 1 to 2 positional arguments but 3 were given",
          "output_type": "error",
          "traceback": [
            "\u001b[0;31m---------------------------------------------------------------------------\u001b[0m",
            "\u001b[0;31mTypeError\u001b[0m                                 Traceback (most recent call last)",
            "\u001b[1;32m/mnt/c/Users/ericr/Desktop/USP/Estudos/Algebra Linear/Trabalho Final/Cadeias-de-Markov-Aplicado-a-finan-as-/Turma02_Grupo15_code.ipynb Cell 30\u001b[0m line \u001b[0;36m1\n\u001b[0;32m----> <a href='vscode-notebook-cell://wsl%2Bubuntu/mnt/c/Users/ericr/Desktop/USP/Estudos/Algebra%20Linear/Trabalho%20Final/Cadeias-de-Markov-Aplicado-a-finan-as-/Turma02_Grupo15_code.ipynb#X41sdnNjb2RlLXJlbW90ZQ%3D%3D?line=0'>1</a>\u001b[0m grid_pos \u001b[39m=\u001b[39m build_transition_grid(compressed_set_pos, unique_patterns)\n\u001b[1;32m      <a href='vscode-notebook-cell://wsl%2Bubuntu/mnt/c/Users/ericr/Desktop/USP/Estudos/Algebra%20Linear/Trabalho%20Final/Cadeias-de-Markov-Aplicado-a-finan-as-/Turma02_Grupo15_code.ipynb#X41sdnNjb2RlLXJlbW90ZQ%3D%3D?line=1'>2</a>\u001b[0m grid_neg \u001b[39m=\u001b[39m build_transition_grid(compressed_set_neg, unique_patterns)\n",
            "\u001b[1;32m/mnt/c/Users/ericr/Desktop/USP/Estudos/Algebra Linear/Trabalho Final/Cadeias-de-Markov-Aplicado-a-finan-as-/Turma02_Grupo15_code.ipynb Cell 30\u001b[0m line \u001b[0;36m2\n\u001b[1;32m     <a href='vscode-notebook-cell://wsl%2Bubuntu/mnt/c/Users/ericr/Desktop/USP/Estudos/Algebra%20Linear/Trabalho%20Final/Cadeias-de-Markov-Aplicado-a-finan-as-/Turma02_Grupo15_code.ipynb#X41sdnNjb2RlLXJlbW90ZQ%3D%3D?line=20'>21</a>\u001b[0m \u001b[39m# create to/from grid\u001b[39;00m\n\u001b[1;32m     <a href='vscode-notebook-cell://wsl%2Bubuntu/mnt/c/Users/ericr/Desktop/USP/Estudos/Algebra%20Linear/Trabalho%20Final/Cadeias-de-Markov-Aplicado-a-finan-as-/Turma02_Grupo15_code.ipynb#X41sdnNjb2RlLXJlbW90ZQ%3D%3D?line=21'>22</a>\u001b[0m grid_Df \u001b[39m=\u001b[39m pd\u001b[39m.\u001b[39mDataFrame({\u001b[39m'\u001b[39m\u001b[39mpairs\u001b[39m\u001b[39m'\u001b[39m:patterns, \u001b[39m'\u001b[39m\u001b[39mcounts\u001b[39m\u001b[39m'\u001b[39m: counts})\n\u001b[0;32m---> <a href='vscode-notebook-cell://wsl%2Bubuntu/mnt/c/Users/ericr/Desktop/USP/Estudos/Algebra%20Linear/Trabalho%20Final/Cadeias-de-Markov-Aplicado-a-finan-as-/Turma02_Grupo15_code.ipynb#X41sdnNjb2RlLXJlbW90ZQ%3D%3D?line=23'>24</a>\u001b[0m grid_Df[\u001b[39m'\u001b[39m\u001b[39mx\u001b[39m\u001b[39m'\u001b[39m], grid_Df[\u001b[39m'\u001b[39m\u001b[39my\u001b[39m\u001b[39m'\u001b[39m] \u001b[39m=\u001b[39m grid_Df[\u001b[39m'\u001b[39;49m\u001b[39mpairs\u001b[39;49m\u001b[39m'\u001b[39;49m]\u001b[39m.\u001b[39;49mstr\u001b[39m.\u001b[39;49msplit(\u001b[39m'\u001b[39;49m\u001b[39m,\u001b[39;49m\u001b[39m'\u001b[39;49m, \u001b[39m1\u001b[39;49m)\u001b[39m.\u001b[39mstr\n\u001b[1;32m     <a href='vscode-notebook-cell://wsl%2Bubuntu/mnt/c/Users/ericr/Desktop/USP/Estudos/Algebra%20Linear/Trabalho%20Final/Cadeias-de-Markov-Aplicado-a-finan-as-/Turma02_Grupo15_code.ipynb#X41sdnNjb2RlLXJlbW90ZQ%3D%3D?line=24'>25</a>\u001b[0m grid_Df\u001b[39m.\u001b[39mhead()\n\u001b[1;32m     <a href='vscode-notebook-cell://wsl%2Bubuntu/mnt/c/Users/ericr/Desktop/USP/Estudos/Algebra%20Linear/Trabalho%20Final/Cadeias-de-Markov-Aplicado-a-finan-as-/Turma02_Grupo15_code.ipynb#X41sdnNjb2RlLXJlbW90ZQ%3D%3D?line=26'>27</a>\u001b[0m grid_Df \u001b[39m=\u001b[39m grid_Df\u001b[39m.\u001b[39mpivot(index\u001b[39m=\u001b[39m\u001b[39m'\u001b[39m\u001b[39mx\u001b[39m\u001b[39m'\u001b[39m, columns\u001b[39m=\u001b[39m\u001b[39m'\u001b[39m\u001b[39my\u001b[39m\u001b[39m'\u001b[39m, values\u001b[39m=\u001b[39m\u001b[39m'\u001b[39m\u001b[39mcounts\u001b[39m\u001b[39m'\u001b[39m)\n",
            "File \u001b[0;32m~/.local/lib/python3.10/site-packages/pandas/core/strings/accessor.py:136\u001b[0m, in \u001b[0;36mforbid_nonstring_types.<locals>._forbid_nonstring_types.<locals>.wrapper\u001b[0;34m(self, *args, **kwargs)\u001b[0m\n\u001b[1;32m    131\u001b[0m     msg \u001b[39m=\u001b[39m (\n\u001b[1;32m    132\u001b[0m         \u001b[39mf\u001b[39m\u001b[39m\"\u001b[39m\u001b[39mCannot use .str.\u001b[39m\u001b[39m{\u001b[39;00mfunc_name\u001b[39m}\u001b[39;00m\u001b[39m with values of \u001b[39m\u001b[39m\"\u001b[39m\n\u001b[1;32m    133\u001b[0m         \u001b[39mf\u001b[39m\u001b[39m\"\u001b[39m\u001b[39minferred dtype \u001b[39m\u001b[39m'\u001b[39m\u001b[39m{\u001b[39;00m\u001b[39mself\u001b[39m\u001b[39m.\u001b[39m_inferred_dtype\u001b[39m}\u001b[39;00m\u001b[39m'\u001b[39m\u001b[39m.\u001b[39m\u001b[39m\"\u001b[39m\n\u001b[1;32m    134\u001b[0m     )\n\u001b[1;32m    135\u001b[0m     \u001b[39mraise\u001b[39;00m \u001b[39mTypeError\u001b[39;00m(msg)\n\u001b[0;32m--> 136\u001b[0m \u001b[39mreturn\u001b[39;00m func(\u001b[39mself\u001b[39;49m, \u001b[39m*\u001b[39;49margs, \u001b[39m*\u001b[39;49m\u001b[39m*\u001b[39;49mkwargs)\n",
            "\u001b[0;31mTypeError\u001b[0m: StringMethods.split() takes from 1 to 2 positional arguments but 3 were given"
          ]
        }
      ],
      "source": [
        "grid_pos = build_transition_grid(compressed_set_pos, unique_patterns)\n",
        "grid_neg = build_transition_grid(compressed_set_neg, unique_patterns)"
      ]
    },
    {
      "cell_type": "code",
      "execution_count": null,
      "metadata": {
        "id": "s03Ft2sHgurC"
      },
      "outputs": [],
      "source": [
        "grid_neg.head()"
      ]
    },
    {
      "cell_type": "code",
      "execution_count": null,
      "metadata": {
        "id": "lgAqqJatgwIe"
      },
      "outputs": [],
      "source": [
        "grid_pos.head()"
      ]
    },
    {
      "cell_type": "code",
      "execution_count": null,
      "metadata": {
        "id": "OTV5MYsNgxpA"
      },
      "outputs": [],
      "source": [
        "def safe_log(x,y):\n",
        "   try:\n",
        "      lg = np.log(x/y)\n",
        "   except:\n",
        "      lg = 0\n",
        "   return lg\n",
        "\n",
        "# predict on out of sample data\n",
        "actual = []\n",
        "predicted = []\n",
        "for seq_id in compressed_set_validation['Sequence_ID'].values:\n",
        "    patterns = compressed_set_validation[compressed_set_validation['Sequence_ID'] == seq_id]['Event_Pattern'].values[0].split(',')\n",
        "    pos = []\n",
        "    neg = []\n",
        "    log_odds = []\n",
        "\n",
        "    for id in range(0, len(patterns)-1):\n",
        "        # get log odds\n",
        "        # logOdds = log(tp(i,j) / tn(i,j)\n",
        "        if (patterns[id] in list(grid_pos) and patterns[id+1] in list(grid_pos) and patterns[id] in list(grid_neg) and patterns[id+1] in list(grid_neg)):\n",
        "\n",
        "            numerator = grid_pos[patterns[id]][patterns[id+1]]\n",
        "            denominator = grid_neg[patterns[id]][patterns[id+1]]\n",
        "            if (numerator == 0 and denominator == 0):\n",
        "                log_value =0\n",
        "            elif (denominator == 0):\n",
        "                log_value = np.log(numerator / 0.00001)\n",
        "            elif (numerator == 0):\n",
        "                log_value = np.log(0.00001 / denominator)\n",
        "            else:\n",
        "                log_value = np.log(numerator/denominator)\n",
        "        else:\n",
        "            log_value = 0\n",
        "\n",
        "        log_odds.append(log_value)\n",
        "\n",
        "        pos.append(numerator)\n",
        "        neg.append(denominator)\n",
        "\n",
        "    print('outcome:', compressed_set_validation[compressed_set_validation['Sequence_ID']==seq_id]['Outcome_Next_Day_Direction'].values[0])\n",
        "    print(sum(pos)/sum(neg))\n",
        "    print(sum(log_odds))\n",
        "\n",
        "    actual.append(compressed_set_validation[compressed_set_validation['Sequence_ID']==seq_id]['Outcome_Next_Day_Direction'].values[0])\n",
        "    predicted.append(sum(log_odds))\n",
        "\n",
        "from sklearn.metrics import confusion_matrix\n",
        "\n",
        "confusion_matrix(actual, [1 if p > 0 else 0 for p in predicted])"
      ]
    },
    {
      "cell_type": "code",
      "execution_count": null,
      "metadata": {
        "id": "-N6c_yZlg2iX"
      },
      "outputs": [],
      "source": [
        "from sklearn.metrics import accuracy_score\n",
        "score = accuracy_score(actual, [1 if p > 0 else 0 for p in predicted])\n",
        "print('Accuracy:', round(score * 100,2), '%')"
      ]
    },
    {
      "cell_type": "code",
      "execution_count": null,
      "metadata": {
        "id": "Oa7edS04g7zv"
      },
      "outputs": [],
      "source": [
        "import seaborn as sns\n",
        "cm = confusion_matrix(actual, [1 if p > 0 else 0 for p in predicted])\n",
        "fig, ax = plt.subplots(figsize=(5, 5))\n",
        "sns.heatmap(cm, annot=True, ax = ax, fmt='g')\n",
        "\n",
        "ax.set_title('Confusion Matrix')\n",
        "ax.set_xlabel('Predicted')\n",
        "ax.set_ylabel('Actual')\n",
        "\n",
        "ax.xaxis.set_ticklabels(['up day','down day'])\n",
        "ax.yaxis.set_ticklabels(['up day','down day'])\n",
        "ax.set_yticklabels(ax.get_yticklabels(), rotation = 0, fontsize = 8)\n",
        "ax.set_xticklabels(ax.get_xticklabels(), rotation = 90, fontsize = 8)\n",
        "plt.show()"
      ]
    }
  ],
  "metadata": {
    "colab": {
      "provenance": []
    },
    "kernelspec": {
      "display_name": "Python 3",
      "name": "python3"
    },
    "language_info": {
      "codemirror_mode": {
        "name": "ipython",
        "version": 3
      },
      "file_extension": ".py",
      "mimetype": "text/x-python",
      "name": "python",
      "nbconvert_exporter": "python",
      "pygments_lexer": "ipython3",
      "version": "3.10.12"
    }
  },
  "nbformat": 4,
  "nbformat_minor": 0
}
