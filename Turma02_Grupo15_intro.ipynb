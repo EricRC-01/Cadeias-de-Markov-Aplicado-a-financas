{
  "cells": [
    {
      "cell_type": "markdown",
      "metadata": {
        "id": "3PXzxQMmNojL"
      },
      "source": [
        "# Trabalho de Algebra Linear\n",
        "## Cadeias de Markov aplicado a finanças\n",
        "\n",
        "### Alunos\n",
        "- Eric Rodrigues das Chagas - 12623971\n",
        "- Pedro Perez - 7777970\n",
        "- Gustavo Blois - 13688162\n",
        "\n",
        "\n",
        "\n",
        "\n"
      ]
    },
    {
      "cell_type": "markdown",
      "metadata": {
        "id": "HqfRCso8N94F"
      },
      "source": [
        "## O que são cadeias de Markov ?\n",
        "\n",
        "Em matemática, uma cadeia de Markov é um caso particular de processo estocástico com estados discretos (o parâmetro, em geral o tempo, pode ser discreto ou contínuo) com a propriedade de que a distribuição de probabilidade do próximo estado depende apenas do estado atual e não na sequência de eventos que precederam, uma propriedade chamada de Markoviana, chamada assim em homenagem ao matemático Andrei Andreyevich Markov. A definição dessa propriedade, também chamada de memória markoviana, é que os estados anteriores são irrelevantes para a predição dos estados seguintes, desde que o estado atual seja conhecido."
      ]
    },
    {
      "cell_type": "markdown",
      "metadata": {
        "id": "YV-MnK5KQJ59"
      },
      "source": [
        "## Definição formal\n",
        "Uma cadeia de Markov é uma sequência $X_1, X_2, X_3, ...$ de variáveis aleatórias. O escopo destas variáveis, isto é, o conjunto de valores que elas podem assumir, é chamado de espaço de estados, onde $X_n$ denota o estado do processo no tempo n. Se a distribuição de probabilidade condicional de $X_{n+1}$ nos estados passados é uma função apenas de $X_n$, então:<br> $Pr(X_{n+1} = x | X_0, X_1, X_2, ..., X_n) = Pr(X_{n+1} = x | X_n),$ <br> onde x é algum estado do processo. A identidade acima define a propriedade de Markov."
      ]
    },
    {
      "cell_type": "markdown",
      "metadata": {},
      "source": [
        "\n",
        "## Utilização de Cadeias de Markov na Previsão de Tendências do Mercado\n",
        "\n",
        "Cadeias de Markov desempenham um papel significativo na antecipação das tendências de ações, determinando se estas apresentarão crescimento ou declínio por meio de abordagens probabilísticas.\n",
        "\n",
        "Queremos modelar a tendência dos mercados de ações. Para fazer isso, devemos primeiro lembrar da nossa suposição de que o movimento do mercado de ações é aleatório.\n",
        "\n",
        "Podemos identificar que este sistema faz transições de forma aleatória entre um número definido de estados.\n",
        "\n",
        "Todas as combinações possíveis desses estados são chamadas de espaço de estados. Para o nosso caso, podemos identificar que o movimento de um mercado de ações pode assumir apenas três estados (o espaço de estados):\n",
        "\n",
        "- Bull\n",
        "- Bear\n",
        "- Stagnant\n",
        "\n",
        "Na análise de tendências de mercado, a figura a seguir ilustra diferentes cenários. O \"Bull Market\" indica um mercado em alta, o \"Bear Market\" representa uma queda, e o \"Stagnant Market\" sugere um mercado estagnado.\n",
        "\n",
        "As setas, juntamente com os números associados, indicam a probabilidade de uma tendência transitar para a próxima fase (ou persistir na mesma). Essa representação visual oferece insights valiosos sobre as possíveis direções futuras do mercado, baseadas em princípios probabilísticos.\n",
        "\n",
        "\n",
        "![Estados de trasicao](Estados_de_trasicao_desenho.png)\n"
      ]
    },
    {
      "cell_type": "markdown",
      "metadata": {},
      "source": [
        "## Matrizes de Transição\n",
        "\n",
        "A partir destas informações obtidas, podemos aplicar o conceito de matrizes de transição, que também são conhecidas como matrizes estocásticas ou matrizes de Markov. Essas matrizes quadradas possuem duas características distintas:\n",
        "\n",
        "1. **Valores Não-Negativos:** Todas as entradas da matriz são não-negativas.\n",
        "2. **Soma das Linhas Igual a 1:** A soma das entradas em cada linha é igual a 1.\n",
        "\n",
        "A principal aplicação das matrizes de transição aqui, é descrever as transições em uma cadeia de Markov.\n",
        "\n",
        "Quando lidamos com cadeias de Markov, representamos as transições entre estados por meio de matrizes de transição. No contexto deste tópico, podemos expressar a relação probabilística da seguinte maneira:\n",
        "\n",
        "\n",
        "![Matriz de trasicao desenho](Matriz_de_trasicao_desenho.png)\n",
        "\n",
        "Reescrevondo-a, temos a seguinte matriz: \n",
        "\n",
        "\n",
        "\n",
        "\\begin{bmatrix}\n",
        "0,8 & 0,11 & 0,09\\\\\n",
        "0,15 & 0,5 & 0,35\\\\\n",
        "0,2 & 0,15 & 0,65\n",
        "\\end{bmatrix}\n",
        "\n",
        "\n",
        "Esta representação matricial fornece uma abordagem mais matemática para as probabilidades visualizadas anteriormente. Neste contexto específico, atribuímos os estados da seguinte forma: 0 para 'Bull Market', 1 para 'Stagnant Market' e 2 para 'Bear Market'. Assim, a posição matriz[1][1] indica a probabilidade de o mercado estagnado permanecer estagnado, enquanto matriz[0][2] representa a probabilidade de o mercado em alta mudar para uma tendência de baixa. Essa interpretação personalizada simplifica a compreensão das transições de mercado."
      ]
    }
  ],
  "metadata": {
    "colab": {
      "provenance": []
    },
    "kernelspec": {
      "display_name": "Python 3",
      "name": "python3"
    },
    "language_info": {
      "name": "python"
    }
  },
  "nbformat": 4,
  "nbformat_minor": 0
}
